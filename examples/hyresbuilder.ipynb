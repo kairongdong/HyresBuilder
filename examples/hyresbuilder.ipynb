{
 "cells": [
  {
   "cell_type": "code",
   "execution_count": 16,
   "id": "6f53617d-4f7d-40f0-aa83-915f13494d7d",
   "metadata": {
    "execution": {
     "iopub.execute_input": "2024-11-14T03:26:57.608698Z",
     "iopub.status.busy": "2024-11-14T03:26:57.608116Z",
     "iopub.status.idle": "2024-11-14T03:26:59.372632Z",
     "shell.execute_reply": "2024-11-14T03:26:59.371691Z",
     "shell.execute_reply.started": "2024-11-14T03:26:57.608641Z"
    }
   },
   "outputs": [],
   "source": [
    "from openmm.app import *\n",
    "from openmm import *\n",
    "import numpy as np\n",
    "import mdtraj as md\n",
    "from itertools import combinations\n",
    "import sys\n",
    "\n",
    "\n",
    "pdb_file = \"./eq-par.pdb\"\n",
    "psf_file = \"./complex.psf\"\n",
    "\n",
    "top_inp = ['./top_hyres_GPU.inp', 'top_atp.inp']\n",
    "param_inp = ['param_hyres_GPU.inp', 'param_atp.inp']\n",
    "\n",
    "temp = 380\n",
    "dt = 0.002*unit.picoseconds                                     # time step\n",
    "total_step = 4000000000  #     8 us                              # total step\n",
    "temperature = temp*unit.kelvin                                    # temperature\n",
    "log_freq = 10000                                                 # frequency of log file\n",
    "dcd_freq = 100000 # 50000                                                 # frequency of fine dcd file\n",
    "c_ion = 0.15                                                    # concentration of ions\n",
    "\n",
    "lx = 25.0*unit.nanometer                                        # pbc box length\n",
    "a = Vec3(lx, 0.0, 0.0)\n",
    "b = Vec3(0.0, lx, 0.0)\n",
    "c = Vec3(0.0, 0.0, lx)\n",
    "\n",
    "er = 20.0                                                       # effective dielectric constant\n",
    "eps_hb = 2.0*unit.kilocalorie_per_mole                          # hydrogen bond strength\n",
    "sigma_hb = 0.29*unit.nanometer                                  # sigma of hydrogen bond\n",
    "r_cut = 1.8*unit.nanometer                                      # cutoff distance of nonbondedforce\n",
    "pressure = 1*unit.atmosphere                                    # pressure in NPT\n",
    "friction = 0.1/unit.picosecond                                    # friction coefficient in Langevin\n",
    "\n",
    "\n",
    "pdb_eq = PDBFile(pdb_file)\n",
    "pdb_init = PDBFile(pdb_file)\n",
    "psf = CharmmPsfFile(psf_file)\n",
    "psf.setBox(lx, lx, lx)\n",
    "top = psf.topology\n",
    "params = CharmmParameterSet(*top_inp, *param_inp)\n",
    "system = psf.createSystem(params, nonbondedMethod=CutoffPeriodic, constraints=HBonds)\n",
    "system.setDefaultPeriodicBoxVectors(a, b, c)"
   ]
  },
  {
   "cell_type": "markdown",
   "id": "ccf7e834-dc07-48bb-b71c-b81d6b799b1e",
   "metadata": {},
   "source": [
    "# load hyres force field"
   ]
  },
  {
   "cell_type": "code",
   "execution_count": 17,
   "id": "cf0ff6f1-7911-4ff0-bf15-fdf6638837f8",
   "metadata": {
    "execution": {
     "iopub.execute_input": "2024-11-14T03:27:01.864631Z",
     "iopub.status.busy": "2024-11-14T03:27:01.864206Z",
     "iopub.status.idle": "2024-11-14T03:27:03.169497Z",
     "shell.execute_reply": "2024-11-14T03:27:03.168607Z",
     "shell.execute_reply.started": "2024-11-14T03:27:01.864600Z"
    }
   },
   "outputs": [
    {
     "name": "stdout",
     "output_type": "stream",
     "text": [
      "get the NonBondedForce: NonbondedForce\n"
     ]
    }
   ],
   "source": [
    "for force in system.getForces():\n",
    "    if force.getName() == \"NonbondedForce\":\n",
    "        nbforce = force\n",
    "print('get the NonBondedForce:', nbforce.getName())\n",
    "\n",
    "# add custom nonbondedforce: CNBForce\n",
    "formula = '(step(Ron - r) + '+ \\\n",
    "'(step(r - Ron) * step(Roff - r) - '+ \\\n",
    "'step(r - Ron) * step(Ron - r)) * '+ \\\n",
    "'(((Roff2 - r2)^2 * (Roff2 + 2.0 * r2 - 3.0 * Ron2)) / '+ \\\n",
    "'(Roff2 - Ron2)^3)) * '+ \\\n",
    "'(4.0 * epsilon * six * (six - 1.0) + (138.935456 / eps * charge1 * charge2) / r * exp(-kf * r));'+ \\\n",
    "'six = (sigma / r)^6; '+ \\\n",
    "'sigma = 0.5 * (sigma1 + sigma2); '+ \\\n",
    "'epsilon = sqrt(epsilon1 * epsilon2);'+ \\\n",
    "'Ron2 = Ron * Ron; Roff2 = Roff * Roff; r2 = r * r; '\n",
    "CNBForce = CustomNonbondedForce(formula)\n",
    "CNBForce.setNonbondedMethod(nbforce.getNonbondedMethod())\n",
    "CNBForce.addGlobalParameter('eps', er)\n",
    "CNBForce.addGlobalParameter('Ron', r_cut - 0.2*unit.nanometer)\n",
    "CNBForce.addGlobalParameter('Roff', r_cut)\n",
    "CNBForce.addGlobalParameter('kf', np.sqrt(c_ion/9.480)*AngstromsPerNm)\n",
    "CNBForce.setCutoffDistance(r_cut)\n",
    "\n",
    "# perparticle variables: sigma, epsilon, charge,\n",
    "CNBForce.addPerParticleParameter('charge')\n",
    "CNBForce.addPerParticleParameter('sigma')\n",
    "CNBForce.addPerParticleParameter('epsilon')\n",
    "for idx in range(nbforce.getNumParticles()):\n",
    "    particle = nbforce.getParticleParameters(idx)\n",
    "    perP = [particle[0], particle[1], particle[2]]\n",
    "    CNBForce.addParticle(perP)\n",
    "# add exclusion\n",
    "for idx in range(nbforce.getNumExceptions()):\n",
    "    ex = nbforce.getExceptionParameters(idx)\n",
    "    CNBForce.addExclusion(ex[0], ex[1])\n",
    "system.addForce(CNBForce)\n",
    "\n",
    "\n",
    "# add nonbondedforce of 1-4 interaction through custombondforece\n",
    "formula = '(step(Ron - r) + '+ \\\n",
    "'(step(r - Ron) * step(Roff - r) - '+ \\\n",
    "'step(r - Ron) * step(Ron - r)) * '+ \\\n",
    "'(((Roff2 - r2)^2 * (Roff2 + 2.0 * r2 - 3.0 * Ron2)) / '+ \\\n",
    "'(Roff2 - Ron2)^3)) * '+ \\\n",
    "'(4.0 * epsilon * six * (six - 1.0) + (138.935456 / eps * charge) / r * exp(-kf * r));'+ \\\n",
    "'six = (sigma / r)^6; '+ \\\n",
    "'Ron2 = Ron * Ron; Roff2 = Roff * Roff; r2 = r * r; '\n",
    "Force14 = CustomBondForce(formula)\n",
    "Force14.addGlobalParameter('eps', er)\n",
    "Force14.addGlobalParameter('Ron', r_cut - 0.2*unit.nanometer)\n",
    "Force14.addGlobalParameter('Roff', r_cut)\n",
    "Force14.addGlobalParameter('kf', np.sqrt(c_ion/9.480)*10.00)\n",
    "\n",
    "Force14.addPerBondParameter('charge')\n",
    "Force14.addPerBondParameter('sigma')\n",
    "Force14.addPerBondParameter('epsilon')\n",
    "for idx in range(nbforce.getNumExceptions()):\n",
    "    ex = nbforce.getExceptionParameters(idx)\n",
    "    Force14.addBond(ex[0], ex[1], [ex[2], ex[3], ex[4]])\n",
    "system.addForce(Force14)\n",
    "\n",
    "# Add the Custom hydrogen bond force\n",
    "formula  = 'epsilon*(5.0*(sigma/r)^12-6.0*(sigma/r)^10)*swrad*cosd^4*swang; '+ \\\n",
    "'swrad = step(rcuton-r)+step(r-rcuton)*(step(rcutoff-r)-step(rcuton-r))*'+ \\\n",
    "'roff2*roff2*(roff2-3.0*ron2)/roffon2^3; '+ \\\n",
    "'roff2 = rcutoff*rcutoff-r*r; '+ \\\n",
    "'ron2 = rcuton*rcuton-r*r; '+ \\\n",
    "'roffon2 = rcutoff*rcutoff-rcuton*rcuton; '+ \\\n",
    "'rcutoff = CTOFHB; rcuton = CTONHB; r = distance(a1, d2); '+ \\\n",
    "'swang = step(cosdcuton-cosd)+step(cosd-cosdcuton)*(step(cosdcutoff-cosd)-step(cosdcuton-cosd))*'+ \\\n",
    "'cosdoff2*cosdoff2*(cosdoff2-3.0*cosdon2)/cosdoffon2^3; '+ \\\n",
    "'cosdoff2 = cosdcutoff*cosdcutoff-cosd*cosd; '+ \\\n",
    "'cosdon2 = cosdcuton*cosdcuton-cosd*cosd; '+ \\\n",
    "'cosdoffon2 = cosdcutoff*cosdcutoff-cosdcuton*cosdcuton; '+ \\\n",
    "'cosdcutoff = -cos(CTOFHA); cosdcuton = -cos(CTONHA); cosd = cos(angle(a1,d1,d2));'\n",
    "\n",
    "Hforce = CustomHbondForce(formula)\n",
    "Hforce.setNonbondedMethod(nbforce.getNonbondedMethod())\n",
    "Hforce.addGlobalParameter('CTOFHB', 0.5*unit.nanometer)\n",
    "Hforce.addGlobalParameter('CTONHB', 0.4*unit.nanometer)\n",
    "Hforce.addGlobalParameter('CTOFHA', 91*unit.degree)\n",
    "Hforce.addGlobalParameter('CTONHA', 90*unit.degree)\n",
    "Hforce.addGlobalParameter('sigma', sigma_hb)\n",
    "Hforce.addGlobalParameter('epsilon', eps_hb)\n",
    "Hforce.setCutoffDistance(0.6*unit.nanometer)\n",
    "\n",
    "Ns, Hs, Os, Cs = [], [], [], []\n",
    "for atom in psf.topology.atoms():\n",
    "    if atom.name == \"N\" and atom.residue.name != 'PRO':\n",
    "        Ns.append(int(atom.index))\n",
    "    if atom.name == \"H\":\n",
    "        Hs.append(int(atom.index))\n",
    "    if atom.name == \"O\":\n",
    "        Os.append(int(atom.index))\n",
    "    if atom.name == \"C\":\n",
    "        Cs.append(int(atom.index))\n",
    "\n",
    "for idx in range(len(Hs)):\n",
    "    Hforce.addDonor(Hs[idx], Ns[idx], -1)\n",
    "    Hforce.addAcceptor(Os[idx], -1, -1)\n",
    "system.addForce(Hforce)\n",
    "\n",
    "# delete the NonbondedForce\n",
    "system.removeForce(nbforce.getForceGroup())"
   ]
  },
  {
   "cell_type": "markdown",
   "id": "ddbe3f67-f505-4ad4-b309-a9310fe8922b",
   "metadata": {},
   "source": [
    "# my restraint functions"
   ]
  },
  {
   "cell_type": "code",
   "execution_count": 18,
   "id": "7a85de40-23dc-4e4f-9193-798f9d5ad416",
   "metadata": {
    "execution": {
     "iopub.execute_input": "2024-11-14T03:27:29.813550Z",
     "iopub.status.busy": "2024-11-14T03:27:29.812979Z",
     "iopub.status.idle": "2024-11-14T03:27:29.859223Z",
     "shell.execute_reply": "2024-11-14T03:27:29.857811Z",
     "shell.execute_reply.started": "2024-11-14T03:27:29.813492Z"
    }
   },
   "outputs": [],
   "source": [
    "from openmm.app import *\n",
    "from openmm import *\n",
    "import numpy as np\n",
    "import mdtraj as md\n",
    "from itertools import combinations\n",
    "\n",
    "# helper function to get atom indices for a give pdb\n",
    "def get_atom_indices_coordinates(pdb, selection):\n",
    "    \"\"\"\n",
    "    pdb: pdb file\n",
    "    selection: mdtraj selection syntax (ref: https://mdtraj.org/1.9.4/atom_selection.html)\n",
    "        of note, if your 'selection' has chainid, you need to use the chainid from PDB file.\n",
    "            chainid in mdtraj is forced to be numbered as 0, 1, 2, ...\n",
    "            here, instead of using those sequential integers for chainid, we override it with the \n",
    "            original chain id from PDB file.\n",
    "    \"\"\"\n",
    "    pdb_md = md.load_pdb(pdb)\n",
    "\n",
    "    if 'chainid' in selection:\n",
    "        chainid_dict = {chain.chain_id: chain.index for chain in pdb_md.topology.chains}\n",
    "\n",
    "        new_str = []\n",
    "        for substring in selection.split('and'):\n",
    "            if 'chainid' in substring:\n",
    "                chainid_list = substring.strip().split('chainid')[-1].strip().split()\n",
    "                new_chainid_str = ' '.join([str(chainid_dict[i]) for i in chainid_list])\n",
    "                final_str = 'chainid ' + new_chainid_str\n",
    "                new_str.append(final_str)\n",
    "            else:\n",
    "                new_str.append(substring.strip())\n",
    "        new_selection = ' and '.join(new_str)\n",
    "    else:\n",
    "        new_selection = selection\n",
    "    \n",
    "    indices = pdb_md.topology.select(new_selection)\n",
    "    coordinates = pdb_md.xyz[0, indices, :]\n",
    "    return indices, coordinates \n",
    "\n",
    "def get_COM(pdb, selection):\n",
    "    pdb_md = md.load_pdb(pdb)\n",
    "\n",
    "    if 'chainid' in selection:\n",
    "        chainid_dict = {chain.chain_id: chain.index for chain in pdb_md.topology.chains}\n",
    "        # print(chainid_dict)\n",
    "\n",
    "        new_str = []\n",
    "        for substring in selection.split('and'):\n",
    "            if 'chainid' in substring:\n",
    "                chainid_list = substring.strip().split('chainid')[-1].strip().split()\n",
    "                new_chainid_str = ' '.join([str(chainid_dict[i]) for i in chainid_list])\n",
    "                final_str = 'chainid ' + new_chainid_str\n",
    "                new_str.append(final_str)\n",
    "            else:\n",
    "                new_str.append(substring.strip())\n",
    "        new_selection = ' and '.join(new_str)\n",
    "    else:\n",
    "        new_selection = selection\n",
    "    # print(new_selection)\n",
    "    com = md.compute_center_of_mass(pdb_md, new_selection)[0]\n",
    "    return com\n",
    "\n",
    "# Positional restraints\n",
    "# Positional restraints\n",
    "def positional_restraint(system, indx_pos_Kcons_list):\n",
    "    \"\"\"\n",
    "    indx_pos_list: list of tuples. Each tuple has two elements, the first one being the atom index,\n",
    "        the second one being the 3D coordinate (x, y, z) as the reference position\n",
    "\n",
    "        example: [(1, (10.0, 12.0, 13.0), 400), (10, (20.0, 23.5, 5.6), 400), ...]\n",
    "            restraint the atom with index 1 to be at (10.0, 12.0, 13.0) with Kcons=400 kj/mol/nm**2; and\n",
    "            restraint the atom with index 10 to be at (20.0, 23.5, 5.6) with Kcons=400 kj/mol/nm**2\n",
    "    \"\"\"\n",
    "\n",
    "    # omm positional restraints\n",
    "    pos_restraint = CustomExternalForce('kp*periodicdistance(x, y, z, x0, y0, z0)^2')\n",
    "    pos_restraint.addPerParticleParameter('kp')\n",
    "    pos_restraint.addPerParticleParameter('x0')\n",
    "    pos_restraint.addPerParticleParameter('y0')\n",
    "    pos_restraint.addPerParticleParameter('z0')\n",
    "    for idx, pos, Kcons in indx_pos_Kcons_list:\n",
    "        # add unit to Kcons\n",
    "        Kcons_wU = Kcons * unit.kilojoule_per_mole/unit.nanometers**2\n",
    "        pos_restraint.addParticle(idx, [Kcons_wU, *pos])\n",
    "    system.addForce(pos_restraint)\n",
    "\n",
    "    return system\n",
    "\n",
    "def bb_positional_restraint(system, pdb_ref, domain=None, Kcons=400):\n",
    "    \"\"\"\n",
    "    add backbone restraints, given a reference PDB\n",
    "    arguments:\n",
    "    system: omm system object\n",
    "    pdb_ref: pdb file path\n",
    "    domain_ranges: if only wants to restraint backbone of a specific domain\n",
    "        <-- a new feature to add in future...\n",
    "    Kcons: (float) K constant. kj/mol/nm**2\n",
    "\n",
    "    Return: system\n",
    "    \"\"\"\n",
    "    # Load pdb\n",
    "    pdb_init = PDBFile(pdb_ref)\n",
    "\n",
    "    # add unit to Kcons\n",
    "    Kcons_wU = Kcons * unit.kilojoule_per_mole/unit.nanometers**2\n",
    "    \n",
    "    # omm positional restraints\n",
    "    pos_restraint = CustomExternalForce('kp*periodicdistance(x, y, z, x0, y0, z0)^2')\n",
    "    pos_restraint.addGlobalParameter('kp', Kcons_wU)\n",
    "    pos_restraint.addPerParticleParameter('x0')\n",
    "    pos_restraint.addPerParticleParameter('y0')\n",
    "    pos_restraint.addPerParticleParameter('z0')\n",
    "    for res in pdb_init.topology.residues():\n",
    "        for atom in res.atoms():\n",
    "            if atom.name in [ 'CA', 'N', 'C', 'O']:\n",
    "                pos_restraint.addParticle(atom.index, pdb_init.positions[atom.index])\n",
    "    system.addForce(pos_restraint)\n",
    "    return system\n",
    "\n",
    "# Center of mass positional restraints\n",
    "def COM_positional_restraint(system, group_indices_pos_kcons):\n",
    "    \"\"\"\n",
    "    system: omm system\n",
    "    group_indices_pos: list of tuples\n",
    "        example: [((1,2,3,4), (x0, y0, z0), 400), ...]\n",
    "            1,2,3,4 are the atom indices of the group; \n",
    "            x0, y0, z0 are the x y z coordinates of reference COM position\n",
    "            400 is the K constant (unit: kj/mol/nm**2) \n",
    "    return: omm system    \n",
    "    \"\"\"\n",
    "    # omm positional restraints\n",
    "    com_pos_restraint = CustomCentroidBondForce(1, 'kp*periodicdistance(x, y, z, x0, y0, z0)^2')\n",
    "    com_pos_restraint.addPerBondParameter('kp')\n",
    "    com_pos_restraint.addPerBondParameter('x0')\n",
    "    com_pos_restraint.addPerBondParameter('y0')\n",
    "    com_pos_restraint.addPerBondParameter('z0')\n",
    "\n",
    "    for idx, (group_idx, ref_pos, Kcons) in enumerate(group_indices_pos_kcons):\n",
    "        Kcons_wU = Kcons * unit.kilojoule_per_mole/unit.nanometers**2\n",
    "        com_pos_restraint.addGroup(group_idx)\n",
    "        com_pos_restraint.addBond([idx, ], [Kcons_wU, *ref_pos])\n",
    "    system.addForce(com_pos_restraint)\n",
    "    return system\n",
    "\n",
    "# Center of mass distance restraints\n",
    "def COM_relative_restraint(system, groups_dist_Kcons_list):\n",
    "    \"\"\" Apply distance restraint between two atom groups\n",
    "    system: omm system\n",
    "    groups_dist_Kcons_list: (list of tuples)\n",
    "        example: [((1,2,3), (4,5,6), 10.0, 400), ...]\n",
    "            (1,2,3): atom indices of atom group1\n",
    "            (4,5,6): atom indices of atom group2\n",
    "            1.0: reference distance, unit of nanometer\n",
    "            400: K constant, kj/mol/nm**2\n",
    "\n",
    "            restrain distance between atom group 1 and atom group 2 to be 10 Angstrome using Kcons=400 kj/mol/nm**2\n",
    "\n",
    "    return omm system     \n",
    "    \"\"\"\n",
    "    COM_force = CustomCentroidBondForce(2, \"0.5*kp*( (distance(g1, g2)-d0 )^2)\")\n",
    "    COM_force.addPerBondParameter('kp')  # Force constant\n",
    "    COM_force.addPerBondParameter('d0')  # restrain distance\n",
    "\n",
    "    i = 0\n",
    "    for group1,group2,dist,Kcons in groups_dist_Kcons_list:\n",
    "        Kcons_wU = Kcons * unit.kilojoule_per_mole/unit.nanometers**2\n",
    "        target_dist = dist * unit.nanometers\n",
    "        COM_force.addGroup(group1)  # Group 1\n",
    "        COM_force.addGroup(group2)  # Group 2\n",
    "        COM_force.addBond([i,  i+1], [Kcons_wU, target_dist])\n",
    "        i += 2\n",
    "    system.addForce(COM_force)\n",
    "    return system\n",
    "\n",
    "# Identify regions with secondary structure\n",
    "def identify_folded_CA_idx(pdb, domain):\n",
    "    \"\"\"\n",
    "    pdb: mdtraj object\n",
    "    domain: \n",
    "        example: ('A', (1, 50))\n",
    "    return: CA atom indices for the folded region\n",
    "    \"\"\"\n",
    "    # get chainid dict\n",
    "    chainid_dict = {chain.chain_id: chain.index for chain in pdb.topology.chains}\n",
    "\n",
    "    # get starting residue index and ending residue index from domain definition\n",
    "    chainid, (starting_resid, ending_resid) = domain\n",
    "\n",
    "    # make sure the given chain id is included in the PDB file\n",
    "    assert chainid in chainid_dict.keys(), f\"chain ID '{chainid}' given in the domain definition does not exist!\"\n",
    "\n",
    "    # select domain\n",
    "    selection = \"chainid %s and residue %s to %s\" % (chainid_dict[chainid], starting_resid, ending_resid)\n",
    "    selected_domain = pdb.atom_slice(pdb.topology.select(selection))\n",
    "    dssp = md.compute_dssp(selected_domain, simplified=True)\n",
    "    folded = np.where(dssp!='C', 1, 0)[0]\n",
    "    resid = [selected_domain.topology.residue(idx).resSeq for idx, i in enumerate(folded) if i==1 ]\n",
    "    folded_CA_idx = [pdb.topology.select(\"chainid %s and residue %s and name CA \" % (chainid_dict[chainid], str(i) ) )[0] for i in resid]\n",
    "\n",
    "    return folded_CA_idx\n",
    "\n",
    "# Domain restraints\n",
    "def domain_3D_restraint(system, pdb_ref, domain_ranges, Kcons=400, cutoff=1.2):\n",
    "    \"\"\"\n",
    "    system: omm system\n",
    "    domain_ranges: a list of tuples, and each tuple defines one domain range:\n",
    "        ('chain_id'), (starting_resid, ending_resid))\n",
    "        example: [('A', (1,50)), ('B', (75, 200)), ...] \n",
    "            # two domains: resid 1-50 of chain A and resid 75-200 of chain B\n",
    "    Kcons_internal: (float) K constant for harmonic restraint. default unit: kj/mol/nm**2\n",
    "    cutoff: cutoff distance, unit: nanometer\n",
    "    return omm system\n",
    "    \"\"\"\n",
    "    internal_force = HarmonicBondForce()\n",
    "    Kcons_internal = Kcons * unit.kilojoule_per_mole/unit.nanometers**2\n",
    "\n",
    "    # load pdb to mdtraj\n",
    "    pdb_md = md.load_pdb(pdb_ref)\n",
    "\n",
    "    # find all pairs\n",
    "    pairs = []\n",
    "    for domain in domain_ranges:\n",
    "        # get C-alpha atom indices of folder region\n",
    "        folded_CA_idx = identify_folded_CA_idx(pdb=pdb_md, domain=domain)\n",
    "        pairs = list(combinations(folded_CA_idx, 2))\n",
    "    \n",
    "        pairs_num = 0\n",
    "        for index in pairs:\n",
    "            r1=np.squeeze(pdb_md.xyz[:,int(index[0]),:])\n",
    "            r2=np.squeeze(pdb_md.xyz[:,int(index[1]),:])\n",
    "            # dist0=np.sqrt((r1[0]-r2[0])**2+(r1[1]-r2[1])**2+(r1[2]-r2[2])**2)\n",
    "            dist0 = np.linalg.norm(r1-r2)\n",
    "            if dist0 < 1.2:\n",
    "                pairs_num += 1\n",
    "                internal_force.addBond(int(index[0]),int(index[1]), dist0*unit.nanometers, Kcons_internal)\n",
    "        print(f\"Number of internal pairs of domain {str(domain)}: {pairs_num}\")\n",
    "    system.addForce(internal_force)\n",
    "    \n",
    "    return system\n"
   ]
  },
  {
   "cell_type": "markdown",
   "id": "e5b44bae-d002-405f-962e-7eb89090fb4b",
   "metadata": {},
   "source": [
    "# Testing positional restraints"
   ]
  },
  {
   "cell_type": "code",
   "execution_count": 5,
   "id": "ad46a47d-cda5-424c-af10-3b8878a23094",
   "metadata": {
    "execution": {
     "iopub.execute_input": "2024-11-14T03:23:44.148316Z",
     "iopub.status.busy": "2024-11-14T03:23:44.147702Z",
     "iopub.status.idle": "2024-11-14T03:23:44.162553Z",
     "shell.execute_reply": "2024-11-14T03:23:44.161051Z",
     "shell.execute_reply.started": "2024-11-14T03:23:44.148257Z"
    }
   },
   "outputs": [],
   "source": [
    "def get_atom_indices_coordinates(pdb, selection):\n",
    "    \"\"\"\n",
    "    pdb: pdb file\n",
    "    selection: mdtraj selection syntax (ref: https://mdtraj.org/1.9.4/atom_selection.html)\n",
    "        of note, if your 'selection' has chainid, you need to use the chainid from PDB file.\n",
    "            chainid in mdtraj is forced to be numbered as 0, 1, 2, ...\n",
    "            here, instead of using those sequential integers for chainid, we override it with the \n",
    "            original chain id from PDB file.\n",
    "    \"\"\"\n",
    "    pdb_md = md.load_pdb(pdb)\n",
    "\n",
    "    if 'chainid' in selection:\n",
    "        chainid_dict = {chain.chain_id: chain.index for chain in pdb_md.topology.chains}\n",
    "\n",
    "        new_str = []\n",
    "        for substring in selection.split('and'):\n",
    "            if 'chainid' in substring:\n",
    "                chainid_list = substring.strip().split('chainid')[-1].strip().split()\n",
    "                new_chainid_str = ' '.join([str(chainid_dict[i]) for i in chainid_list])\n",
    "                final_str = 'chainid ' + new_chainid_str\n",
    "                new_str.append(final_str)\n",
    "            else:\n",
    "                new_str.append(substring.strip())\n",
    "        new_selection = ' and '.join(new_str)\n",
    "    else:\n",
    "        new_selection = selection\n",
    "    \n",
    "    indices = pdb_md.topology.select(new_selection)\n",
    "    coordinates = pdb_md.xyz[0, indices, :]\n",
    "    return indices, coordinates "
   ]
  },
  {
   "cell_type": "code",
   "execution_count": 6,
   "id": "c51d0362-3053-47aa-abed-09e00f37f255",
   "metadata": {
    "execution": {
     "iopub.execute_input": "2024-11-14T03:23:46.740150Z",
     "iopub.status.busy": "2024-11-14T03:23:46.738775Z",
     "iopub.status.idle": "2024-11-14T03:23:47.181246Z",
     "shell.execute_reply": "2024-11-14T03:23:47.180348Z",
     "shell.execute_reply.started": "2024-11-14T03:23:46.740091Z"
    }
   },
   "outputs": [],
   "source": [
    "import copy\n",
    "system1 = copy.deepcopy(system)"
   ]
  },
  {
   "cell_type": "code",
   "execution_count": 7,
   "id": "704d9103-686c-41ce-a121-ea11d3b282f5",
   "metadata": {
    "execution": {
     "iopub.execute_input": "2024-11-14T03:23:49.102650Z",
     "iopub.status.busy": "2024-11-14T03:23:49.102299Z",
     "iopub.status.idle": "2024-11-14T03:23:49.417552Z",
     "shell.execute_reply": "2024-11-14T03:23:49.416726Z",
     "shell.execute_reply.started": "2024-11-14T03:23:49.102619Z"
    }
   },
   "outputs": [
    {
     "name": "stdout",
     "output_type": "stream",
     "text": [
      "[130 192 250] [[11.9769  9.3429 12.5621]\n",
      " [12.5887  7.6912 12.8775]\n",
      " [11.9861  8.1262 11.5796]]\n"
     ]
    }
   ],
   "source": [
    "atom_idx, atom_coord = get_atom_indices_coordinates(pdb_file, \"chainid A and resid 20 30 40 and name CA\")\n",
    "print(atom_idx, atom_coord)"
   ]
  },
  {
   "cell_type": "code",
   "execution_count": 8,
   "id": "6db92ffd-ec02-4362-8025-94d35ad5989b",
   "metadata": {
    "execution": {
     "iopub.execute_input": "2024-11-14T03:23:51.315763Z",
     "iopub.status.busy": "2024-11-14T03:23:51.315337Z",
     "iopub.status.idle": "2024-11-14T03:23:51.323586Z",
     "shell.execute_reply": "2024-11-14T03:23:51.322265Z",
     "shell.execute_reply.started": "2024-11-14T03:23:51.315723Z"
    }
   },
   "outputs": [
    {
     "name": "stdout",
     "output_type": "stream",
     "text": [
      "[(130, array([11.9769,  9.3429, 12.5621], dtype=float32), 400), (192, array([12.5887,  7.6912, 12.8775], dtype=float32), 400), (250, array([11.9861,  8.1262, 11.5796], dtype=float32), 400)]\n"
     ]
    }
   ],
   "source": [
    "pos_res = []\n",
    "kcons = 400\n",
    "for idx,coord in zip(atom_idx, atom_coord):\n",
    "    # print(idx,coord,kcons)\n",
    "    pos_res.append((idx,coord,kcons))\n",
    "print(pos_res)"
   ]
  },
  {
   "cell_type": "code",
   "execution_count": 8,
   "id": "f2e06e50-2d69-44ed-882c-931f186fb4fa",
   "metadata": {
    "execution": {
     "iopub.execute_input": "2024-11-13T23:53:11.522986Z",
     "iopub.status.busy": "2024-11-13T23:53:11.522332Z",
     "iopub.status.idle": "2024-11-13T23:53:11.530755Z",
     "shell.execute_reply": "2024-11-13T23:53:11.529219Z",
     "shell.execute_reply.started": "2024-11-13T23:53:11.522896Z"
    }
   },
   "outputs": [],
   "source": [
    "system1 = positional_restraint(system1, indx_pos_Kcons_list=pos_res)"
   ]
  },
  {
   "cell_type": "code",
   "execution_count": 9,
   "id": "1b5cc53f-f7f7-4f95-a817-7a1febe67579",
   "metadata": {
    "execution": {
     "iopub.execute_input": "2024-11-13T23:54:09.214860Z",
     "iopub.status.busy": "2024-11-13T23:54:09.214257Z",
     "iopub.status.idle": "2024-11-13T23:54:09.721514Z",
     "shell.execute_reply": "2024-11-13T23:54:09.720321Z",
     "shell.execute_reply.started": "2024-11-13T23:54:09.214803Z"
    }
   },
   "outputs": [],
   "source": [
    "# save system xml out\n",
    "with open(f\"system1_pos_res_test.xml\", \"w\") as f:\n",
    "    f.write(XmlSerializer.serialize(system1))"
   ]
  },
  {
   "cell_type": "markdown",
   "id": "8f123880-11ad-477f-bb29-738cf141e4af",
   "metadata": {},
   "source": [
    "# Testing COM positional restraint"
   ]
  },
  {
   "cell_type": "code",
   "execution_count": 52,
   "id": "40c58594-6796-48c0-9518-3634918946f5",
   "metadata": {
    "execution": {
     "iopub.execute_input": "2024-11-14T00:25:36.369844Z",
     "iopub.status.busy": "2024-11-14T00:25:36.369263Z",
     "iopub.status.idle": "2024-11-14T00:25:36.381667Z",
     "shell.execute_reply": "2024-11-14T00:25:36.380218Z",
     "shell.execute_reply.started": "2024-11-14T00:25:36.369788Z"
    }
   },
   "outputs": [],
   "source": [
    "# Center of mass positional restraints\n",
    "def COM_positional_restraint(system, group_indices_pos_kcons):\n",
    "    \"\"\"\n",
    "    system: omm system\n",
    "    group_indices_pos: list of tuples\n",
    "        example: [((1,2,3,4), (x0, y0, z0), 400), ...]\n",
    "            1,2,3,4 are the atom indices of the group; \n",
    "            x0, y0, z0 are the x y z coordinates of reference COM position\n",
    "            400 is the K constant (unit: kj/mol/nm**2) \n",
    "    return: omm system    \n",
    "    \"\"\"\n",
    "    # omm positional restraints\n",
    "    com_pos_restraint = CustomCentroidBondForce(1, 'kp*periodicdistance(x, y, z, x0, y0, z0)^2')\n",
    "    com_pos_restraint.addPerBondParameter('kp')\n",
    "    com_pos_restraint.addPerBondParameter('x0')\n",
    "    com_pos_restraint.addPerBondParameter('y0')\n",
    "    com_pos_restraint.addPerBondParameter('z0')\n",
    "\n",
    "    for idx, (group_idx, ref_pos, Kcons) in enumerate(group_indices_pos_kcons):\n",
    "        Kcons_wU = Kcons * unit.kilojoule_per_mole/unit.nanometers**2\n",
    "        com_pos_restraint.addGroup(group_idx)\n",
    "        com_pos_restraint.addBond([idx, ], [Kcons_wU, *ref_pos])\n",
    "    system.addForce(com_pos_restraint)\n",
    "    return system"
   ]
  },
  {
   "cell_type": "code",
   "execution_count": 44,
   "id": "1e3a2c1a-0540-49d4-b7f7-0944397eb391",
   "metadata": {
    "execution": {
     "iopub.execute_input": "2024-11-14T00:17:02.819259Z",
     "iopub.status.busy": "2024-11-14T00:17:02.818636Z",
     "iopub.status.idle": "2024-11-14T00:17:03.833114Z",
     "shell.execute_reply": "2024-11-14T00:17:03.832047Z",
     "shell.execute_reply.started": "2024-11-14T00:17:02.819201Z"
    }
   },
   "outputs": [
    {
     "name": "stdout",
     "output_type": "stream",
     "text": [
      "[12.50948891  9.0789616  11.77860424]\n",
      "[12.04790628 12.48202871 17.37442281]\n"
     ]
    }
   ],
   "source": [
    "idx1, coord1 = get_atom_indices_coordinates(pdb_file, selection=\"chainid A and residue 1 to 100\")\n",
    "idx2, coord2 = get_atom_indices_coordinates(pdb_file, selection=\"chainid B and residue 200 to 250\")\n",
    "\n",
    "com1 = get_COM(pdb_file, selection=\"chainid A and residue 1 to 100\")\n",
    "com2 = get_COM(pdb_file, selection=\"chainid B and residue 200 to 250\")\n",
    "print(com1)\n",
    "print(com2)"
   ]
  },
  {
   "cell_type": "code",
   "execution_count": 46,
   "id": "40c82f4e-b032-49c9-9af6-2f5797674405",
   "metadata": {
    "execution": {
     "iopub.execute_input": "2024-11-14T00:17:53.179330Z",
     "iopub.status.busy": "2024-11-14T00:17:53.178713Z",
     "iopub.status.idle": "2024-11-14T00:17:53.185912Z",
     "shell.execute_reply": "2024-11-14T00:17:53.184565Z",
     "shell.execute_reply.started": "2024-11-14T00:17:53.179272Z"
    }
   },
   "outputs": [],
   "source": [
    "test_com_res_list = [(idx1, com1, 400), (idx2, com2, 400)]"
   ]
  },
  {
   "cell_type": "code",
   "execution_count": 47,
   "id": "8a3d7486-c672-4445-a3ab-6f1f034c8d09",
   "metadata": {
    "execution": {
     "iopub.execute_input": "2024-11-14T00:18:13.694214Z",
     "iopub.status.busy": "2024-11-14T00:18:13.693619Z",
     "iopub.status.idle": "2024-11-14T00:18:14.198125Z",
     "shell.execute_reply": "2024-11-14T00:18:14.197259Z",
     "shell.execute_reply.started": "2024-11-14T00:18:13.694158Z"
    }
   },
   "outputs": [],
   "source": [
    "system2 = copy.deepcopy(system)\n",
    "system2 = COM_positional_restraint(system2, group_indices_pos_kcons=test_com_res_list)\n",
    "# save system xml out\n",
    "with open(f\"system2_com_pos_res_test.xml\", \"w\") as f:\n",
    "    f.write(XmlSerializer.serialize(system2))"
   ]
  },
  {
   "cell_type": "code",
   "execution_count": null,
   "id": "942fc029-f401-42ac-ba81-c6d6047564cd",
   "metadata": {},
   "outputs": [],
   "source": []
  },
  {
   "cell_type": "code",
   "execution_count": 28,
   "id": "b79708df-40d0-4136-994d-104068f8bc93",
   "metadata": {
    "execution": {
     "iopub.execute_input": "2024-11-14T00:10:54.774276Z",
     "iopub.status.busy": "2024-11-14T00:10:54.773687Z",
     "iopub.status.idle": "2024-11-14T00:10:55.039162Z",
     "shell.execute_reply": "2024-11-14T00:10:55.037923Z",
     "shell.execute_reply.started": "2024-11-14T00:10:54.774220Z"
    }
   },
   "outputs": [],
   "source": [
    "pdb_test = md.load_pdb(pdb_file)"
   ]
  },
  {
   "cell_type": "code",
   "execution_count": 39,
   "id": "3267ebf1-f12e-4966-95ca-8d14d470c2aa",
   "metadata": {
    "execution": {
     "iopub.execute_input": "2024-11-14T00:14:05.618141Z",
     "iopub.status.busy": "2024-11-14T00:14:05.617577Z",
     "iopub.status.idle": "2024-11-14T00:14:05.642198Z",
     "shell.execute_reply": "2024-11-14T00:14:05.641126Z",
     "shell.execute_reply.started": "2024-11-14T00:14:05.618088Z"
    }
   },
   "outputs": [
    {
     "data": {
      "text/plain": [
       "array([3989, 3990, 3991, ..., 7975, 7976, 7977])"
      ]
     },
     "execution_count": 39,
     "metadata": {},
     "output_type": "execute_result"
    }
   ],
   "source": [
    "pdb_test.topology.select(\"chainid 1 and residue 1 to 1000\")"
   ]
  },
  {
   "cell_type": "code",
   "execution_count": null,
   "id": "a8a48a40-2f3a-4e1c-9ba0-f6efec4f5248",
   "metadata": {},
   "outputs": [],
   "source": []
  },
  {
   "cell_type": "markdown",
   "id": "30596b98-4262-409d-a089-f1be0b188042",
   "metadata": {},
   "source": [
    "# Testing COM distance restraints"
   ]
  },
  {
   "cell_type": "code",
   "execution_count": 39,
   "id": "db31bcc3-2931-4c00-abd0-10b6664485cf",
   "metadata": {
    "execution": {
     "iopub.execute_input": "2024-11-14T03:45:30.859627Z",
     "iopub.status.busy": "2024-11-14T03:45:30.859205Z",
     "iopub.status.idle": "2024-11-14T03:45:30.868449Z",
     "shell.execute_reply": "2024-11-14T03:45:30.867145Z",
     "shell.execute_reply.started": "2024-11-14T03:45:30.859589Z"
    }
   },
   "outputs": [],
   "source": [
    "def COM_relative_restraint(system, groups_dist_Kcons_list):\n",
    "    \"\"\" Apply distance restraint between two atom groups\n",
    "    system: omm system\n",
    "    groups_dist_Kcons_list: (list of tuples)\n",
    "        example: [((1,2,3), (4,5,6), 10.0, 400), ...]\n",
    "            (1,2,3): atom indices of atom group1\n",
    "            (4,5,6): atom indices of atom group2\n",
    "            1.0: reference distance, unit of nanometer\n",
    "            400: K constant, kj/mol/nm**2\n",
    "\n",
    "            restrain distance between atom group 1 and atom group 2 to be 10 Angstrome using Kcons=400 kj/mol/nm**2\n",
    "\n",
    "    return omm system     \n",
    "    \"\"\"\n",
    "    COM_force = CustomCentroidBondForce(2, \"0.5*kp*( (distance(g1, g2)-d0 )^2)\")\n",
    "    COM_force.addPerBondParameter('kp')  # Force constant\n",
    "    COM_force.addPerBondParameter('d0')  # restrain distance\n",
    "\n",
    "    i = 0\n",
    "    for group1,group2,dist,Kcons in groups_dist_Kcons_list:\n",
    "        Kcons_wU = Kcons * unit.kilojoule_per_mole/unit.nanometers**2\n",
    "        target_dist = dist * unit.nanometers\n",
    "        COM_force.addGroup(group1)  # Group 1\n",
    "        COM_force.addGroup(group2)  # Group 2\n",
    "        COM_force.addBond([i,  i+1], [Kcons_wU, target_dist])\n",
    "        i += 2\n",
    "    system.addForce(COM_force)\n",
    "    return system"
   ]
  },
  {
   "cell_type": "code",
   "execution_count": 33,
   "id": "a81ac19d-e7a1-43af-847a-185ac0c32d11",
   "metadata": {
    "execution": {
     "iopub.execute_input": "2024-11-14T03:40:55.385293Z",
     "iopub.status.busy": "2024-11-14T03:40:55.384704Z",
     "iopub.status.idle": "2024-11-14T03:40:57.409500Z",
     "shell.execute_reply": "2024-11-14T03:40:57.408643Z",
     "shell.execute_reply.started": "2024-11-14T03:40:55.385236Z"
    }
   },
   "outputs": [
    {
     "name": "stdout",
     "output_type": "stream",
     "text": [
      "[11.79698009 10.99487991 10.85535021]\n",
      "[12.06156358 12.04217269 17.30738189]\n",
      "6.541829973829677\n",
      "[13.38658177  9.53274536  9.84988187]\n",
      "[12.25239    11.7155201  13.42980013]\n",
      "4.343582769005289\n"
     ]
    }
   ],
   "source": [
    "idx1, coord1 = get_atom_indices_coordinates(pdb_file, selection=\"chainid A and residue 1 to 10 and name CA\")\n",
    "idx2, coord2 = get_atom_indices_coordinates(pdb_file, selection=\"chainid B and residue 200 to 210 and name CA\")\n",
    "\n",
    "com1 = get_COM(pdb_file, selection=\"chainid A and residue 1 to 10 and name CA\")\n",
    "com2 = get_COM(pdb_file, selection=\"chainid B and residue 200 to 210 and name CA\")\n",
    "print(com1)\n",
    "print(com2)\n",
    "\n",
    "dist12 = np.linalg.norm(com1-com2)\n",
    "print(dist12)\n",
    "\n",
    "idx3, coord3 = get_atom_indices_coordinates(pdb_file, selection=\"chainid A and residue 200 to 210 and name CA\")\n",
    "idx4, coord4 = get_atom_indices_coordinates(pdb_file, selection=\"chainid B and residue 1 to 10 and name CA\")\n",
    "com3 = get_COM(pdb_file, selection=\"chainid A and residue 200 to 210 and name CA\")\n",
    "com4 = get_COM(pdb_file, selection=\"chainid B and residue 1 to 10 and name CA\")\n",
    "print(com3)\n",
    "print(com4)\n",
    "\n",
    "dist34 = np.linalg.norm(com3-com4)\n",
    "print(dist34)"
   ]
  },
  {
   "cell_type": "code",
   "execution_count": 34,
   "id": "c1b818ac-a5f6-4a5b-a0c7-38c78a6ce2b1",
   "metadata": {
    "execution": {
     "iopub.execute_input": "2024-11-14T03:41:00.263657Z",
     "iopub.status.busy": "2024-11-14T03:41:00.263287Z",
     "iopub.status.idle": "2024-11-14T03:41:00.270281Z",
     "shell.execute_reply": "2024-11-14T03:41:00.269239Z",
     "shell.execute_reply.started": "2024-11-14T03:41:00.263627Z"
    }
   },
   "outputs": [
    {
     "name": "stdout",
     "output_type": "stream",
     "text": [
      "[(array([ 2,  8, 14, 20, 26, 32, 38, 44, 52, 60]), array([5215, 5221, 5226, 5232, 5238, 5244, 5250, 5256, 5262, 5268, 5274]), 6.541829973829677, 400), (array([1226, 1232, 1237, 1243, 1249, 1255, 1261, 1267, 1273, 1279, 1285]), array([3991, 3997, 4003, 4009, 4015, 4021, 4027, 4033, 4041, 4049]), 4.343582769005289, 400)]\n"
     ]
    }
   ],
   "source": [
    "groups_dist_Kcons_list_test = [\n",
    "    (idx1, idx2, dist12, 400),\n",
    "    (idx3, idx4, dist34, 400),\n",
    "]\n",
    "\n",
    "print(groups_dist_Kcons_list_test)"
   ]
  },
  {
   "cell_type": "code",
   "execution_count": 40,
   "id": "cf696116-2b32-419b-93d5-38a2e318b93f",
   "metadata": {
    "execution": {
     "iopub.execute_input": "2024-11-14T03:45:34.431759Z",
     "iopub.status.busy": "2024-11-14T03:45:34.431138Z",
     "iopub.status.idle": "2024-11-14T03:45:35.286622Z",
     "shell.execute_reply": "2024-11-14T03:45:35.285661Z",
     "shell.execute_reply.started": "2024-11-14T03:45:34.431698Z"
    }
   },
   "outputs": [],
   "source": [
    "system3 = copy.deepcopy(system)\n",
    "system3 = COM_relative_restraint(system3, groups_dist_Kcons_list=groups_dist_Kcons_list_test)\n",
    "# save system xml out\n",
    "with open(f\"system3_com_dist_res_test.xml\", \"w\") as f:\n",
    "    f.write(XmlSerializer.serialize(system3))"
   ]
  },
  {
   "cell_type": "code",
   "execution_count": null,
   "id": "91a471d3-d92f-42f1-9d45-441878b55ffd",
   "metadata": {},
   "outputs": [],
   "source": []
  },
  {
   "cell_type": "markdown",
   "id": "10eca602-30ef-4c5d-9de7-3f1743224b5a",
   "metadata": {},
   "source": [
    "# Testing domain restraint"
   ]
  },
  {
   "cell_type": "code",
   "execution_count": 48,
   "id": "0a9bf787-735f-4e68-b1da-3cbe4b2e8541",
   "metadata": {
    "execution": {
     "iopub.execute_input": "2024-11-14T03:59:02.981418Z",
     "iopub.status.busy": "2024-11-14T03:59:02.980735Z",
     "iopub.status.idle": "2024-11-14T03:59:02.991564Z",
     "shell.execute_reply": "2024-11-14T03:59:02.990072Z",
     "shell.execute_reply.started": "2024-11-14T03:59:02.981379Z"
    }
   },
   "outputs": [],
   "source": [
    "def domain_3D_restraint(system, pdb_ref, domain_ranges, Kcons=400, cutoff=1.2):\n",
    "    \"\"\"\n",
    "    system: omm system\n",
    "    domain_ranges: a list of tuples, and each tuple defines one domain range:\n",
    "        ('chain_id'), (starting_resid, ending_resid))\n",
    "        example: [('A', (1,50)), ('B', (75, 200)), ...] \n",
    "            # two domains: resid 1-50 of chain A and resid 75-200 of chain B\n",
    "    Kcons_internal: (float) K constant for harmonic restraint. default unit: kj/mol/nm**2\n",
    "    cutoff: cutoff distance, unit: nanometer\n",
    "    return omm system\n",
    "    \"\"\"\n",
    "    internal_force = HarmonicBondForce()\n",
    "    Kcons_internal = Kcons * unit.kilojoule_per_mole/unit.nanometers**2\n",
    "\n",
    "    # load pdb to mdtraj\n",
    "    pdb_md = md.load_pdb(pdb_ref)\n",
    "\n",
    "    # find all pairs\n",
    "    pairs = []\n",
    "    for domain in domain_ranges:\n",
    "        # get C-alpha atom indices of folder region\n",
    "        folded_CA_idx = identify_folded_CA_idx(pdb=pdb_md, domain=domain)\n",
    "        pairs = list(combinations(folded_CA_idx, 2))\n",
    "    \n",
    "        pairs_num = 0\n",
    "        for index in pairs:\n",
    "            r1=np.squeeze(pdb_md.xyz[:,int(index[0]),:])\n",
    "            r2=np.squeeze(pdb_md.xyz[:,int(index[1]),:])\n",
    "            # dist0=np.sqrt((r1[0]-r2[0])**2+(r1[1]-r2[1])**2+(r1[2]-r2[2])**2)\n",
    "            dist0 = np.linalg.norm(r1-r2)\n",
    "            if dist0 < 1.2:\n",
    "                pairs_num += 1\n",
    "                internal_force.addBond(int(index[0]),int(index[1]), dist0*unit.nanometers, Kcons_internal)\n",
    "        print(f\"Number of internal pairs of domain {str(domain)}: {pairs_num}\")\n",
    "    system.addForce(internal_force)\n",
    "    return system"
   ]
  },
  {
   "cell_type": "code",
   "execution_count": 42,
   "id": "461f4e7b-d09b-4cd9-9e91-8482dfefaaa9",
   "metadata": {
    "execution": {
     "iopub.execute_input": "2024-11-14T03:52:06.481942Z",
     "iopub.status.busy": "2024-11-14T03:52:06.481320Z",
     "iopub.status.idle": "2024-11-14T03:52:06.489630Z",
     "shell.execute_reply": "2024-11-14T03:52:06.488103Z",
     "shell.execute_reply.started": "2024-11-14T03:52:06.481884Z"
    }
   },
   "outputs": [],
   "source": [
    "domain_ranges = [('A', (1, 132)), ('A', (159, 226)), ('B', (330, 509)), ('B', (510, 654))]"
   ]
  },
  {
   "cell_type": "code",
   "execution_count": 49,
   "id": "63755fde-0afd-445a-bf13-ed78dd4dfd05",
   "metadata": {
    "execution": {
     "iopub.execute_input": "2024-11-14T03:59:06.226267Z",
     "iopub.status.busy": "2024-11-14T03:59:06.225662Z",
     "iopub.status.idle": "2024-11-14T03:59:12.565146Z",
     "shell.execute_reply": "2024-11-14T03:59:12.564334Z",
     "shell.execute_reply.started": "2024-11-14T03:59:06.226211Z"
    }
   },
   "outputs": [
    {
     "name": "stdout",
     "output_type": "stream",
     "text": [
      "Number of internal pairs of resid ('A', (1, 132)): 1146\n",
      "Number of internal pairs of resid ('A', (159, 226)): 290\n",
      "Number of internal pairs of resid ('B', (330, 509)): 965\n",
      "Number of internal pairs of resid ('B', (510, 654)): 1145\n"
     ]
    }
   ],
   "source": [
    "system4 = copy.deepcopy(system)\n",
    "system4 = domain_3D_restraint(system4, pdb_ref=pdb_file, domain_ranges=domain_ranges, Kcons=400, cutoff=1.2)\n",
    "\n",
    "# save system xml out\n",
    "with open(f\"system4_domain3d_res_test.xml\", \"w\") as f:\n",
    "    f.write(XmlSerializer.serialize(system4))"
   ]
  },
  {
   "cell_type": "code",
   "execution_count": null,
   "id": "d4608015-2f07-469c-a22e-c481d644a4af",
   "metadata": {},
   "outputs": [],
   "source": []
  }
 ],
 "metadata": {
  "kernelspec": {
   "display_name": "Python 3 (biosim)",
   "language": "python",
   "name": "python3"
  },
  "language_info": {
   "codemirror_mode": {
    "name": "ipython",
    "version": 3
   },
   "file_extension": ".py",
   "mimetype": "text/x-python",
   "name": "python",
   "nbconvert_exporter": "python",
   "pygments_lexer": "ipython3",
   "version": "3.8.19"
  }
 },
 "nbformat": 4,
 "nbformat_minor": 5
}
